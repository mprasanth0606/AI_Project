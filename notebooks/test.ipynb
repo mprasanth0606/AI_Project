{
 "cells": [
  {
   "cell_type": "code",
   "execution_count": 4,
   "id": "918be6ec",
   "metadata": {},
   "outputs": [
    {
     "name": "stderr",
     "output_type": "stream",
     "text": [
      "\n",
      "[notice] A new release of pip is available: 24.0 -> 25.2\n",
      "[notice] To update, run: python.exe -m pip install --upgrade pip\n"
     ]
    },
    {
     "name": "stdout",
     "output_type": "stream",
     "text": [
      "Collecting pandas\n",
      "  Using cached pandas-2.3.3-cp312-cp312-win_amd64.whl.metadata (19 kB)\n",
      "Requirement already satisfied: numpy>=1.26.0 in d:\\python training\\ai_project\\venv\\lib\\site-packages (from pandas) (2.3.4)\n",
      "Requirement already satisfied: python-dateutil>=2.8.2 in d:\\python training\\ai_project\\venv\\lib\\site-packages (from pandas) (2.9.0.post0)\n",
      "Collecting pytz>=2020.1 (from pandas)\n",
      "  Using cached pytz-2025.2-py2.py3-none-any.whl.metadata (22 kB)\n",
      "Collecting tzdata>=2022.7 (from pandas)\n",
      "  Using cached tzdata-2025.2-py2.py3-none-any.whl.metadata (1.4 kB)\n",
      "Requirement already satisfied: six>=1.5 in d:\\python training\\ai_project\\venv\\lib\\site-packages (from python-dateutil>=2.8.2->pandas) (1.17.0)\n",
      "Using cached pandas-2.3.3-cp312-cp312-win_amd64.whl (11.0 MB)\n",
      "Using cached pytz-2025.2-py2.py3-none-any.whl (509 kB)\n",
      "Using cached tzdata-2025.2-py2.py3-none-any.whl (347 kB)\n",
      "Installing collected packages: pytz, tzdata, pandas\n",
      "Successfully installed pandas-2.3.3 pytz-2025.2 tzdata-2025.2\n",
      "movie_id   10   20   30   40\n",
      "user_id                     \n",
      "1         4.0  5.0  2.0  0.0\n",
      "2         5.0  3.0  0.0  0.0\n",
      "3         2.0  0.0  0.0  4.0\n",
      "4         0.0  0.0  4.0  0.0\n",
      "User Similarity Matrix:\n",
      "user_id         1         2         3         4\n",
      "user_id                                        \n",
      "1        1.000000  0.894792  0.266667  0.298142\n",
      "2        0.894792  1.000000  0.383482  0.000000\n",
      "3        0.266667  0.383482  1.000000  0.000000\n",
      "4        0.298142  0.000000  0.000000  1.000000\n"
     ]
    }
   ],
   "source": [
    "! pip install pandas\n",
    "import pandas as pd\n",
    "from sklearn.metrics.pairwise import cosine_similarity\n",
    "\n",
    "# Sample movie ratings data\n",
    "data = {\n",
    "    \"user_id\": [1, 1, 1, 2, 2, 3, 3, 4],\n",
    "    \"movie_id\": [10, 20, 30, 10, 20, 10, 40, 30],\n",
    "    \"rating\":   [4, 5, 2, 5, 3, 2, 4, 4]\n",
    "}\n",
    "\n",
    "df = pd.DataFrame(data)\n",
    "\n",
    "# Create pivot table\n",
    "ratings_matrix = df.pivot_table(index='user_id', columns='movie_id', values='rating').fillna(0)\n",
    "print(ratings_matrix)\n",
    "# Compute cosine similarity between users\n",
    "user_sim = cosine_similarity(ratings_matrix)\n",
    "\n",
    "# Create DataFrame for easy viewing\n",
    "user_sim_df = pd.DataFrame(user_sim, index=ratings_matrix.index, columns=ratings_matrix.index)\n",
    "\n",
    "print(\"User Similarity Matrix:\")\n",
    "print(user_sim_df)\n"
   ]
  },
  {
   "cell_type": "code",
   "execution_count": 2,
   "id": "d742a3b1",
   "metadata": {},
   "outputs": [
    {
     "name": "stdout",
     "output_type": "stream",
     "text": [
      "0\n",
      "2\n",
      "4\n",
      "6\n",
      "8\n"
     ]
    }
   ],
   "source": [
    "#Loop Block - for, while\n",
    "\n",
    "for i in range(5):\n",
    " loop_var = i * 2  # loop_var is redefined each time\n",
    " print(loop_var) \n"
   ]
  }
 ],
 "metadata": {
  "kernelspec": {
   "display_name": "venv",
   "language": "python",
   "name": "python3"
  },
  "language_info": {
   "codemirror_mode": {
    "name": "ipython",
    "version": 3
   },
   "file_extension": ".py",
   "mimetype": "text/x-python",
   "name": "python",
   "nbconvert_exporter": "python",
   "pygments_lexer": "ipython3",
   "version": "3.12.4"
  }
 },
 "nbformat": 4,
 "nbformat_minor": 5
}
